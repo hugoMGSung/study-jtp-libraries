{
 "cells": [
  {
   "cell_type": "markdown",
   "metadata": {},
   "source": [
    "## 바이너리 다루기\n",
    "\n",
    "### C언어 읽기\n",
    "\n",
    "#### struct 모듈 설치"
   ]
  },
  {
   "cell_type": "code",
   "execution_count": 1,
   "metadata": {},
   "outputs": [],
   "source": [
    "import struct"
   ]
  },
  {
   "cell_type": "markdown",
   "metadata": {},
   "source": [
    "#### C언어내 구조체\n",
    "\n",
    "```c\n",
    "struct Person {\n",
    "    int id;\n",
    "    char name[20];\n",
    "    float salary;\n",
    "};\n",
    "\n",
    "```"
   ]
  },
  {
   "cell_type": "code",
   "execution_count": 3,
   "metadata": {},
   "outputs": [],
   "source": [
    "# C 구조체 형식에 맞는 포맷 문자열 정의\n",
    "# 'i'는 int, '20s'는 20 바이트 길이의 문자열, 'f'는 float\n",
    "format_string = 'i20sf'"
   ]
  },
  {
   "cell_type": "code",
   "execution_count": 4,
   "metadata": {},
   "outputs": [],
   "source": [
    "# 예시 데이터 (4 바이트 정수, 20 바이트 문자열, 4 바이트 실수)\n",
    "data = struct.pack(format_string, 1, b\"John Doe\", 50000.0)"
   ]
  },
  {
   "cell_type": "code",
   "execution_count": 5,
   "metadata": {},
   "outputs": [],
   "source": [
    "# 구조체 데이터를 파싱\n",
    "unpacked_data = struct.unpack(format_string, data)"
   ]
  },
  {
   "cell_type": "code",
   "execution_count": 7,
   "metadata": {},
   "outputs": [
    {
     "data": {
      "text/plain": [
       "(1, b'John Doe\\x00\\x00\\x00\\x00\\x00\\x00\\x00\\x00\\x00\\x00\\x00\\x00', 50000.0)"
      ]
     },
     "execution_count": 7,
     "metadata": {},
     "output_type": "execute_result"
    }
   ],
   "source": [
    "# 결과 출력 - C언어 구조체의 내용대로 tuple로 표시됨\n",
    "unpacked_data"
   ]
  }
 ],
 "metadata": {
  "kernelspec": {
   "display_name": "lib_env",
   "language": "python",
   "name": "python3"
  },
  "language_info": {
   "codemirror_mode": {
    "name": "ipython",
    "version": 3
   },
   "file_extension": ".py",
   "mimetype": "text/x-python",
   "name": "python",
   "nbconvert_exporter": "python",
   "pygments_lexer": "ipython3",
   "version": "3.11.9"
  }
 },
 "nbformat": 4,
 "nbformat_minor": 2
}
