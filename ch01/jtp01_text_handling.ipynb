{
 "cells": [
  {
   "cell_type": "markdown",
   "metadata": {},
   "source": [
    "## 텍스트 다루기\n",
    "\n",
    "### 문자열 줄여서 표시"
   ]
  },
  {
   "cell_type": "code",
   "execution_count": 2,
   "metadata": {},
   "outputs": [],
   "source": [
    "import textwrap"
   ]
  },
  {
   "cell_type": "code",
   "execution_count": 3,
   "metadata": {},
   "outputs": [
    {
     "data": {
      "text/plain": [
       "'인생은 짧습니다....'"
      ]
     },
     "execution_count": 3,
     "metadata": {},
     "output_type": "execute_result"
    }
   ],
   "source": [
    "sample = '인생은 짧습니다. 파이썬이 필요합니다.'\n",
    "textwrap.shorten(sample, width=15, placeholder='...')"
   ]
  },
  {
   "cell_type": "code",
   "execution_count": 4,
   "metadata": {},
   "outputs": [],
   "source": [
    "sample2 = sample * 10"
   ]
  },
  {
   "cell_type": "markdown",
   "metadata": {},
   "source": [
    "### 긴 문장 줄바꿈"
   ]
  },
  {
   "cell_type": "code",
   "execution_count": 5,
   "metadata": {},
   "outputs": [
    {
     "data": {
      "text/plain": [
       "'인생은 짧습니다. 파이썬이 필요합니다.인생은 짧습니다. 파이썬이 필요합니다.인생은 짧습니다. 파이썬이 필요합니다.인생은 짧습니다. 파이썬이 필요합니다.인생은 짧습니다. 파이썬이 필요합니다.인생은 짧습니다. 파이썬이 필요합니다.인생은 짧습니다. 파이썬이 필요합니다.인생은 짧습니다. 파이썬이 필요합니다.인생은 짧습니다. 파이썬이 필요합니다.인생은 짧습니다. 파이썬이 필요합니다.'"
      ]
     },
     "execution_count": 5,
     "metadata": {},
     "output_type": "execute_result"
    }
   ],
   "source": [
    "sample2"
   ]
  },
  {
   "cell_type": "code",
   "execution_count": 6,
   "metadata": {},
   "outputs": [],
   "source": [
    "result = textwrap.wrap(sample2, width=60)"
   ]
  },
  {
   "cell_type": "code",
   "execution_count": 7,
   "metadata": {},
   "outputs": [
    {
     "data": {
      "text/plain": [
       "['인생은 짧습니다. 파이썬이 필요합니다.인생은 짧습니다. 파이썬이 필요합니다.인생은 짧습니다. 파이썬이',\n",
       " '필요합니다.인생은 짧습니다. 파이썬이 필요합니다.인생은 짧습니다. 파이썬이 필요합니다.인생은 짧습니다.',\n",
       " '파이썬이 필요합니다.인생은 짧습니다. 파이썬이 필요합니다.인생은 짧습니다. 파이썬이 필요합니다.인생은',\n",
       " '짧습니다. 파이썬이 필요합니다.인생은 짧습니다. 파이썬이 필요합니다.']"
      ]
     },
     "execution_count": 7,
     "metadata": {},
     "output_type": "execute_result"
    }
   ],
   "source": [
    "result"
   ]
  },
  {
   "cell_type": "code",
   "execution_count": 8,
   "metadata": {},
   "outputs": [
    {
     "name": "stdout",
     "output_type": "stream",
     "text": [
      "인생은 짧습니다. 파이썬이 필요합니다.인생은 짧습니다. 파이썬이 필요합니다.인생은 짧습니다. 파이썬이\n",
      "필요합니다.인생은 짧습니다. 파이썬이 필요합니다.인생은 짧습니다. 파이썬이 필요합니다.인생은 짧습니다.\n",
      "파이썬이 필요합니다.인생은 짧습니다. 파이썬이 필요합니다.인생은 짧습니다. 파이썬이 필요합니다.인생은\n",
      "짧습니다. 파이썬이 필요합니다.인생은 짧습니다. 파이썬이 필요합니다.\n"
     ]
    }
   ],
   "source": [
    "print('\\n'.join(result))"
   ]
  },
  {
   "cell_type": "markdown",
   "metadata": {},
   "source": [
    "### 정규표현식\n",
    "\n",
    "- 주민등록번호가 포함된 텍스트를 사용할 때 개인정보보호 방안\n"
   ]
  },
  {
   "cell_type": "code",
   "execution_count": 9,
   "metadata": {},
   "outputs": [],
   "source": [
    "import re"
   ]
  },
  {
   "cell_type": "code",
   "execution_count": 10,
   "metadata": {},
   "outputs": [],
   "source": [
    "sample3 = '''\n",
    "홍길동의 주민번호는 800905-1049118 입니다. \n",
    "그리고 고길동의 주민번호는 700905-1059119 입니다.\n",
    "그렇다면 누가 형님일까요?\n",
    "'''"
   ]
  },
  {
   "cell_type": "code",
   "execution_count": 11,
   "metadata": {},
   "outputs": [
    {
     "name": "stdout",
     "output_type": "stream",
     "text": [
      "\n",
      "홍길동의 주민번호는 800905-******* 입니다. \n",
      "그리고 고길동의 주민번호는 700905-******* 입니다.\n",
      "그렇다면 누가 형님일까요?\n",
      "\n"
     ]
    }
   ],
   "source": [
    "## 꽤 복잡하다.\n",
    "result = []\n",
    "\n",
    "for line in sample3.split('\\n'):\n",
    "    word_result = []\n",
    "    for word in line.split(' '):\n",
    "        if len(word) == 14 and word[:6].isdigit() and word[7:].isdigit():\n",
    "            word = f'{word[:6]}-*******'\n",
    "        word_result.append(word)\n",
    "    result.append(' '.join(word_result))\n",
    "    \n",
    "print('\\n'.join(result)) "
   ]
  },
  {
   "cell_type": "code",
   "execution_count": 12,
   "metadata": {},
   "outputs": [
    {
     "name": "stdout",
     "output_type": "stream",
     "text": [
      "\n",
      "홍길동의 주민번호는 800905-******* 입니다. \n",
      "그리고 고길동의 주민번호는 700905-******* 입니다.\n",
      "그렇다면 누가 형님일까요?\n",
      "\n"
     ]
    }
   ],
   "source": [
    "## 정규식으로는 매우 쉽다\n",
    "### (\\d{6})처럼 괄호로 그룹핑, 첫 번째 그룹 \\g<1>은 주민등록 번호 형식 문자열에서 바꾸지 않고 그대로 사용.\n",
    "### 주민 등록 번호 앞부분 의미.\n",
    "pattern = re.compile(r'(\\d{6})[-]\\d{7}')\n",
    "print(pattern.sub(r'\\g<1>-*******', sample3))"
   ]
  }
 ],
 "metadata": {
  "kernelspec": {
   "display_name": "lib_env",
   "language": "python",
   "name": "python3"
  },
  "language_info": {
   "codemirror_mode": {
    "name": "ipython",
    "version": 3
   },
   "file_extension": ".py",
   "mimetype": "text/x-python",
   "name": "python",
   "nbconvert_exporter": "python",
   "pygments_lexer": "ipython3",
   "version": "3.11.9"
  }
 },
 "nbformat": 4,
 "nbformat_minor": 2
}
